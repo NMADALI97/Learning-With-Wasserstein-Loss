{
  "nbformat": 4,
  "nbformat_minor": 0,
  "metadata": {
    "colab": {
      "name": "MNIST.ipynb",
      "provenance": [],
      "collapsed_sections": []
    },
    "kernelspec": {
      "name": "python3",
      "display_name": "Python 3"
    },
    "accelerator": "GPU"
  },
  "cells": [
    {
      "cell_type": "code",
      "metadata": {
        "id": "HKrPicMR78GY",
        "colab_type": "code",
        "outputId": "a8aa863e-af10-4032-fd9d-de0d7a09afb8",
        "colab": {
          "base_uri": "https://localhost:8080/",
          "height": 82
        }
      },
      "source": [
        "from __future__ import print_function, division\n",
        "\n",
        "from keras.datasets import mnist\n",
        "from keras.layers.merge import _Merge\n",
        "from keras.layers import Input, Dense, Reshape, Flatten, Dropout\n",
        "from keras.layers import BatchNormalization, Activation, ZeroPadding2D\n",
        "from keras.layers.advanced_activations import LeakyReLU\n",
        "from keras.layers.convolutional import UpSampling2D, Conv2D\n",
        "from keras.models import Sequential, Model\n",
        "from keras.optimizers import RMSprop\n",
        "from functools import partial\n",
        "\n",
        "import keras.backend as K\n",
        "\n",
        "import matplotlib.pyplot as plt\n",
        "\n",
        "import sys\n",
        "\n",
        "import numpy as np\n"
      ],
      "execution_count": 0,
      "outputs": [
        {
          "output_type": "stream",
          "text": [
            "Using TensorFlow backend.\n"
          ],
          "name": "stderr"
        },
        {
          "output_type": "display_data",
          "data": {
            "text/html": [
              "<p style=\"color: red;\">\n",
              "The default version of TensorFlow in Colab will soon switch to TensorFlow 2.x.<br>\n",
              "We recommend you <a href=\"https://www.tensorflow.org/guide/migrate\" target=\"_blank\">upgrade</a> now \n",
              "or ensure your notebook will continue to use TensorFlow 1.x via the <code>%tensorflow_version 1.x</code> magic:\n",
              "<a href=\"https://colab.research.google.com/notebooks/tensorflow_version.ipynb\" target=\"_blank\">more info</a>.</p>\n"
            ],
            "text/plain": [
              "<IPython.core.display.HTML object>"
            ]
          },
          "metadata": {
            "tags": []
          }
        }
      ]
    },
    {
      "cell_type": "code",
      "metadata": {
        "id": "cfZpaddq8CLF",
        "colab_type": "code",
        "colab": {}
      },
      "source": [
        "class RandomWeightedAverage(_Merge):\n",
        "    \"\"\"Provides a (random) weighted average between real and generated image samples\"\"\"\n",
        "    def _merge_function(self, inputs):\n",
        "        alpha = K.random_uniform((32, 1, 1, 1))\n",
        "        return (alpha * inputs[0]) + ((1 - alpha) * inputs[1])\n",
        "\n",
        "def gradient_penalty_loss( y_true, y_pred, averaged_samples):\n",
        "        \"\"\"\n",
        "        Computes gradient penalty based on prediction and weighted real / fake samples\n",
        "        \"\"\"\n",
        "        gradients = K.gradients(y_pred, averaged_samples)[0]\n",
        "        # compute the euclidean norm by squaring ...\n",
        "        gradients_sqr = K.square(gradients)\n",
        "        #   ... summing over the rows ...\n",
        "        gradients_sqr_sum = K.sum(gradients_sqr,\n",
        "                                  axis=np.arange(1, len(gradients_sqr.shape)))\n",
        "        #   ... and sqrt\n",
        "        gradient_l2_norm = K.sqrt(gradients_sqr_sum)\n",
        "        # compute lambda * (1 - ||grad||)^2 still for each single sample\n",
        "        gradient_penalty = K.square(1 - gradient_l2_norm)\n",
        "        # return the mean as loss over all the batch samples\n",
        "        return K.mean(gradient_penalty)\n",
        "\n",
        "\n",
        "def wasserstein_loss(y_true, y_pred):\n",
        "        return K.mean(y_true * y_pred)"
      ],
      "execution_count": 0,
      "outputs": []
    },
    {
      "cell_type": "code",
      "metadata": {
        "id": "SAQ_DpZF8xdR",
        "colab_type": "code",
        "colab": {}
      },
      "source": [
        "img_rows = 28\n",
        "img_cols = 28\n",
        "channels = 1\n",
        "img_shape = (img_rows,img_cols, channels)\n",
        "latent_dim = 100\n",
        "\n",
        "        \n",
        "n_critic = 5\n",
        "optimizer = RMSprop(lr=0.00005)\n"
      ],
      "execution_count": 0,
      "outputs": []
    },
    {
      "cell_type": "code",
      "metadata": {
        "id": "PfVdK41A8EDb",
        "colab_type": "code",
        "outputId": "374db30e-def7-4a32-b42a-fef1cf27bab9",
        "colab": {
          "base_uri": "https://localhost:8080/",
          "height": 467
        }
      },
      "source": [
        "model = Sequential()\n",
        "noise = Input(shape=(latent_dim,))\n",
        "O=Dense(128 * 7 * 7, activation=\"relu\", input_dim=latent_dim)(noise)\n",
        "O=Reshape((7, 7, 128))(O)\n",
        "O=UpSampling2D()(O)\n",
        "O=Conv2D(128, kernel_size=4, padding=\"same\")(O)\n",
        "O=BatchNormalization(momentum=0.8)(O)\n",
        "O=Activation(\"relu\")(O)\n",
        "O=UpSampling2D()(O)\n",
        "O=Conv2D(64, kernel_size=4, padding=\"same\")(O)\n",
        "O=BatchNormalization(momentum=0.8)(O)\n",
        "O=Activation(\"relu\")(O)\n",
        "O=Conv2D(channels, kernel_size=4, padding=\"same\")(O)\n",
        "img=Activation(\"tanh\")(O)\n",
        "\n",
        "\n",
        "generator=Model(inputs=[noise], outputs=[img])"
      ],
      "execution_count": 0,
      "outputs": [
        {
          "output_type": "stream",
          "text": [
            "WARNING:tensorflow:From /usr/local/lib/python3.6/dist-packages/keras/backend/tensorflow_backend.py:66: The name tf.get_default_graph is deprecated. Please use tf.compat.v1.get_default_graph instead.\n",
            "\n",
            "WARNING:tensorflow:From /usr/local/lib/python3.6/dist-packages/keras/backend/tensorflow_backend.py:541: The name tf.placeholder is deprecated. Please use tf.compat.v1.placeholder instead.\n",
            "\n",
            "WARNING:tensorflow:From /usr/local/lib/python3.6/dist-packages/keras/backend/tensorflow_backend.py:4432: The name tf.random_uniform is deprecated. Please use tf.random.uniform instead.\n",
            "\n",
            "WARNING:tensorflow:From /usr/local/lib/python3.6/dist-packages/keras/backend/tensorflow_backend.py:2239: The name tf.image.resize_nearest_neighbor is deprecated. Please use tf.compat.v1.image.resize_nearest_neighbor instead.\n",
            "\n",
            "WARNING:tensorflow:From /usr/local/lib/python3.6/dist-packages/keras/backend/tensorflow_backend.py:190: The name tf.get_default_session is deprecated. Please use tf.compat.v1.get_default_session instead.\n",
            "\n",
            "WARNING:tensorflow:From /usr/local/lib/python3.6/dist-packages/keras/backend/tensorflow_backend.py:197: The name tf.ConfigProto is deprecated. Please use tf.compat.v1.ConfigProto instead.\n",
            "\n",
            "WARNING:tensorflow:From /usr/local/lib/python3.6/dist-packages/keras/backend/tensorflow_backend.py:203: The name tf.Session is deprecated. Please use tf.compat.v1.Session instead.\n",
            "\n",
            "WARNING:tensorflow:From /usr/local/lib/python3.6/dist-packages/keras/backend/tensorflow_backend.py:207: The name tf.global_variables is deprecated. Please use tf.compat.v1.global_variables instead.\n",
            "\n",
            "WARNING:tensorflow:From /usr/local/lib/python3.6/dist-packages/keras/backend/tensorflow_backend.py:216: The name tf.is_variable_initialized is deprecated. Please use tf.compat.v1.is_variable_initialized instead.\n",
            "\n",
            "WARNING:tensorflow:From /usr/local/lib/python3.6/dist-packages/keras/backend/tensorflow_backend.py:223: The name tf.variables_initializer is deprecated. Please use tf.compat.v1.variables_initializer instead.\n",
            "\n",
            "WARNING:tensorflow:From /usr/local/lib/python3.6/dist-packages/keras/backend/tensorflow_backend.py:2041: The name tf.nn.fused_batch_norm is deprecated. Please use tf.compat.v1.nn.fused_batch_norm instead.\n",
            "\n",
            "WARNING:tensorflow:From /usr/local/lib/python3.6/dist-packages/keras/backend/tensorflow_backend.py:148: The name tf.placeholder_with_default is deprecated. Please use tf.compat.v1.placeholder_with_default instead.\n",
            "\n"
          ],
          "name": "stdout"
        }
      ]
    },
    {
      "cell_type": "code",
      "metadata": {
        "id": "DkxUUCV18Z0E",
        "colab_type": "code",
        "outputId": "9cb00a73-43c6-47c4-9177-05bd4e3a46ef",
        "colab": {
          "base_uri": "https://localhost:8080/",
          "height": 91
        }
      },
      "source": [
        "img = Input(shape=img_shape)\n",
        "\n",
        "O=Conv2D(16, kernel_size=3, strides=2, input_shape=img_shape, padding=\"same\")(img)\n",
        "O=LeakyReLU(alpha=0.2)(O)\n",
        "O=Dropout(0.25)(O)\n",
        "O=Conv2D(32, kernel_size=3, strides=2, padding=\"same\")(O)\n",
        "O=ZeroPadding2D(padding=((0,1),(0,1)))(O)\n",
        "O=BatchNormalization(momentum=0.8)(O)\n",
        "O=LeakyReLU(alpha=0.2)(O)\n",
        "O=Dropout(0.25)(O)\n",
        "O=Conv2D(64, kernel_size=3, strides=2, padding=\"same\")(O)\n",
        "O=BatchNormalization(momentum=0.8)(O)\n",
        "O=LeakyReLU(alpha=0.2)(O)\n",
        "O=Dropout(0.25)(O)\n",
        "O=Conv2D(128, kernel_size=3, strides=1, padding=\"same\")(O)\n",
        "O=BatchNormalization(momentum=0.8)(O)\n",
        "O=LeakyReLU(alpha=0.2)(O)\n",
        "O=Dropout(0.25)(O)\n",
        "O=Flatten()(O)\n",
        "validity=Dense(1)(O)\n",
        "\n",
        "\n",
        "critic = Model(inputs=[img], outputs=[validity])\n",
        "\n",
        "\n"
      ],
      "execution_count": 0,
      "outputs": [
        {
          "output_type": "stream",
          "text": [
            "WARNING:tensorflow:From /usr/local/lib/python3.6/dist-packages/keras/backend/tensorflow_backend.py:3733: calling dropout (from tensorflow.python.ops.nn_ops) with keep_prob is deprecated and will be removed in a future version.\n",
            "Instructions for updating:\n",
            "Please use `rate` instead of `keep_prob`. Rate should be set to `rate = 1 - keep_prob`.\n"
          ],
          "name": "stdout"
        }
      ]
    },
    {
      "cell_type": "code",
      "metadata": {
        "id": "b61NZASA9CLt",
        "colab_type": "code",
        "colab": {}
      },
      "source": [
        "generator.trainable = False\n",
        "real_img = Input(shape=img_shape)\n",
        "# Noise input\n",
        "z_disc = Input(shape=(latent_dim,))\n",
        "\n",
        "# Generate image based of noise (fake sample)\n",
        "fake_img = generator(z_disc)\n",
        "\n",
        "fake = critic(fake_img)\n",
        "valid = critic(real_img)\n",
        "\n",
        "# Construct weighted average between real and fake images\n",
        "interpolated_img = RandomWeightedAverage()([real_img, fake_img])\n",
        " # Determine validity of weighted sample\n",
        "validity_interpolated = critic(interpolated_img)"
      ],
      "execution_count": 0,
      "outputs": []
    },
    {
      "cell_type": "code",
      "metadata": {
        "id": "miQlrobA9ZXr",
        "colab_type": "code",
        "outputId": "160d3a2b-393b-4c79-e558-1c1f69eb632f",
        "colab": {
          "base_uri": "https://localhost:8080/",
          "height": 73
        }
      },
      "source": [
        "partial_gp_loss = partial(gradient_penalty_loss,averaged_samples=interpolated_img)\n",
        "partial_gp_loss.__name__ = 'gradient_penalty' # Keras requires function names\n",
        "\n",
        "critic_model = Model(inputs=[real_img, z_disc],outputs=[valid, fake, validity_interpolated])\n",
        "critic_model.compile(loss=[wasserstein_loss,wasserstein_loss,partial_gp_loss],optimizer=optimizer,loss_weights=[1, 1, 10])"
      ],
      "execution_count": 0,
      "outputs": [
        {
          "output_type": "stream",
          "text": [
            "WARNING:tensorflow:From /usr/local/lib/python3.6/dist-packages/keras/optimizers.py:793: The name tf.train.Optimizer is deprecated. Please use tf.compat.v1.train.Optimizer instead.\n",
            "\n"
          ],
          "name": "stdout"
        }
      ]
    },
    {
      "cell_type": "code",
      "metadata": {
        "id": "HTwqxSK492T_",
        "colab_type": "code",
        "colab": {}
      },
      "source": [
        "#-------------------------------\n",
        "        # Construct Computational Graph\n",
        "        #         for Generator\n",
        "        #-------------------------------\n",
        "\n",
        "        # For the generator we freeze the critic's layers\n",
        "critic.trainable = False\n",
        "generator.trainable = True\n",
        "\n",
        "# Sampled noise for input to generator\n",
        "z_gen = Input(shape=(latent_dim,))\n",
        "# Generate images based of noise\n",
        "img = generator(z_gen)\n",
        "# Discriminator determines validity\n",
        "valid = critic(img)\n",
        "# Defines generator model\n",
        "generator_model = Model(z_gen, valid)\n",
        "generator_model.compile(loss=wasserstein_loss, optimizer=optimizer)"
      ],
      "execution_count": 0,
      "outputs": []
    },
    {
      "cell_type": "code",
      "metadata": {
        "id": "TNjYZj9V-MeM",
        "colab_type": "code",
        "colab": {}
      },
      "source": [
        "def sample_images(epoch):\n",
        "        r, c = 5, 5\n",
        "        noise = np.random.normal(0, 1, (r * c, latent_dim))\n",
        "        gen_imgs = generator.predict(noise)\n",
        "\n",
        "        # Rescale images 0 - 1\n",
        "        gen_imgs = 0.5 * gen_imgs + 0.5\n",
        "\n",
        "        fig, axs = plt.subplots(r, c)\n",
        "        cnt = 0\n",
        "        for i in range(r):\n",
        "            for j in range(c):\n",
        "                axs[i,j].imshow(gen_imgs[cnt, :,:,0], cmap='gray')\n",
        "                axs[i,j].axis('off')\n",
        "                cnt += 1\n",
        "        fig.savefig(\"images/mnist_%d.png\" % epoch)\n",
        "        plt.close()"
      ],
      "execution_count": 0,
      "outputs": []
    },
    {
      "cell_type": "code",
      "metadata": {
        "id": "RPq7_b-e-2mm",
        "colab_type": "code",
        "colab": {}
      },
      "source": [
        "import os\n",
        "os.mkdir(\"images\")"
      ],
      "execution_count": 0,
      "outputs": []
    },
    {
      "cell_type": "code",
      "metadata": {
        "id": "sDb5ltst-5Cj",
        "colab_type": "code",
        "colab": {}
      },
      "source": [
        "os.mkdir(\"weights\")"
      ],
      "execution_count": 0,
      "outputs": []
    },
    {
      "cell_type": "code",
      "metadata": {
        "id": "4YnCa40P-HKo",
        "colab_type": "code",
        "outputId": "69b0c4fa-4bd5-40ea-af13-c5fceda59d62",
        "colab": {
          "base_uri": "https://localhost:8080/",
          "height": 1000
        }
      },
      "source": [
        "epochs=30000\n",
        "batch_size=32\n",
        "sample_interval=100\n",
        "# Load the dataset\n",
        "(X_train, y_train), (X_test, y_test) = mnist.load_data()\n",
        "\n",
        "        # Rescale -1 to 1\n",
        "X_train = (X_train.astype(np.float32) - 127.5) / 127.5\n",
        "X_train = np.expand_dims(X_train, axis=3)\n",
        "\n",
        "# Adversarial ground truths\n",
        "valid = -np.ones((batch_size, 1))\n",
        "fake =  np.ones((batch_size, 1))\n",
        "dummy = np.zeros((batch_size, 1)) # Dummy gt for gradient penalty\n",
        "for epoch in range(epochs):\n",
        "\n",
        "            for _ in range(n_critic):\n",
        "\n",
        "                # ---------------------\n",
        "                #  Train Discriminator\n",
        "                # ---------------------\n",
        "\n",
        "                # Select a random batch of images\n",
        "                idx = np.random.randint(0, X_train.shape[0], batch_size)\n",
        "                imgs = X_train[idx]\n",
        "                # Sample generator input\n",
        "                noise = np.random.normal(0, 1, (batch_size, latent_dim))\n",
        "                # Train the critic\n",
        "                d_loss = critic_model.train_on_batch([imgs, noise],[valid, fake, dummy])\n",
        "\n",
        "            # ---------------------\n",
        "            #  Train Generator\n",
        "            # ---------------------\n",
        "\n",
        "            g_loss = generator_model.train_on_batch(noise, valid)\n",
        "\n",
        "            # Plot the progress\n",
        "            \n",
        "\n",
        "            # If at save interval => save generated image samples\n",
        "            if epoch % sample_interval == 0:\n",
        "                print (\"%d [D loss: %f] [G loss: %f]\" % (epoch, d_loss[0], g_loss))\n",
        "                sample_images(epoch)\n",
        "critic_model.save_weights('weights/critic_model.h5')\n",
        "generator_model.save_weights('weights/generator_model.h5')\n"
      ],
      "execution_count": 0,
      "outputs": [
        {
          "output_type": "stream",
          "text": [
            "Downloading data from https://s3.amazonaws.com/img-datasets/mnist.npz\n",
            "11493376/11490434 [==============================] - 1s 0us/step\n",
            "WARNING:tensorflow:From /usr/local/lib/python3.6/dist-packages/tensorflow_core/python/ops/math_grad.py:1424: where (from tensorflow.python.ops.array_ops) is deprecated and will be removed in a future version.\n",
            "Instructions for updating:\n",
            "Use tf.where in 2.0, which has the same broadcast rule as np.where\n"
          ],
          "name": "stdout"
        },
        {
          "output_type": "stream",
          "text": [
            "/usr/local/lib/python3.6/dist-packages/keras/engine/training.py:493: UserWarning: Discrepancy between trainable weights and collected trainable weights, did you set `model.trainable` without calling `model.compile` after ?\n",
            "  'Discrepancy between trainable weights and collected trainable'\n"
          ],
          "name": "stderr"
        },
        {
          "output_type": "stream",
          "text": [
            "WARNING:tensorflow:From /usr/local/lib/python3.6/dist-packages/keras/backend/tensorflow_backend.py:1033: The name tf.assign_add is deprecated. Please use tf.compat.v1.assign_add instead.\n",
            "\n",
            "WARNING:tensorflow:From /usr/local/lib/python3.6/dist-packages/keras/backend/tensorflow_backend.py:1020: The name tf.assign is deprecated. Please use tf.compat.v1.assign instead.\n",
            "\n"
          ],
          "name": "stdout"
        },
        {
          "output_type": "stream",
          "text": [
            "/usr/local/lib/python3.6/dist-packages/keras/engine/training.py:493: UserWarning: Discrepancy between trainable weights and collected trainable weights, did you set `model.trainable` without calling `model.compile` after ?\n",
            "  'Discrepancy between trainable weights and collected trainable'\n"
          ],
          "name": "stderr"
        },
        {
          "output_type": "stream",
          "text": [
            "0 [D loss: 5.424684] [G loss: 0.588975]\n"
          ],
          "name": "stdout"
        },
        {
          "output_type": "stream",
          "text": [
            "/usr/local/lib/python3.6/dist-packages/keras/engine/training.py:493: UserWarning: Discrepancy between trainable weights and collected trainable weights, did you set `model.trainable` without calling `model.compile` after ?\n",
            "  'Discrepancy between trainable weights and collected trainable'\n"
          ],
          "name": "stderr"
        },
        {
          "output_type": "stream",
          "text": [
            "100 [D loss: -0.411085] [G loss: -1.898563]\n",
            "200 [D loss: -0.553805] [G loss: -2.436589]\n",
            "300 [D loss: -0.399898] [G loss: -2.698101]\n",
            "400 [D loss: -0.857405] [G loss: -2.799584]\n",
            "500 [D loss: -0.312946] [G loss: -2.758680]\n",
            "600 [D loss: -0.898423] [G loss: -2.258036]\n",
            "700 [D loss: -0.243636] [G loss: -2.060264]\n",
            "800 [D loss: -1.134558] [G loss: -2.072329]\n",
            "900 [D loss: -1.084150] [G loss: -2.253939]\n",
            "1000 [D loss: -0.925627] [G loss: -1.613780]\n",
            "1100 [D loss: -1.304686] [G loss: -1.538786]\n",
            "1200 [D loss: -0.137141] [G loss: -1.365250]\n",
            "1300 [D loss: -0.299227] [G loss: -2.128389]\n",
            "1400 [D loss: -1.248217] [G loss: -1.562972]\n",
            "1500 [D loss: -1.080565] [G loss: -1.306919]\n",
            "1600 [D loss: -0.896772] [G loss: -0.544719]\n",
            "1700 [D loss: -0.555178] [G loss: -0.462584]\n",
            "1800 [D loss: -0.094248] [G loss: -0.159923]\n",
            "1900 [D loss: 0.169333] [G loss: 0.137790]\n",
            "2000 [D loss: 0.284056] [G loss: 0.428383]\n",
            "2100 [D loss: -0.512163] [G loss: 0.128737]\n",
            "2200 [D loss: -1.449814] [G loss: -0.059801]\n",
            "2300 [D loss: -0.108114] [G loss: 0.207395]\n",
            "2400 [D loss: -0.183364] [G loss: 0.653760]\n",
            "2500 [D loss: -0.774996] [G loss: 0.970104]\n",
            "2600 [D loss: -0.706221] [G loss: 0.579704]\n",
            "2700 [D loss: -1.543490] [G loss: 0.707560]\n",
            "2800 [D loss: -0.526430] [G loss: 0.871953]\n",
            "2900 [D loss: -0.677467] [G loss: 0.648897]\n",
            "3000 [D loss: -0.590439] [G loss: 0.762430]\n",
            "3100 [D loss: -0.576384] [G loss: 1.062379]\n",
            "3200 [D loss: -0.663017] [G loss: 1.464039]\n",
            "3300 [D loss: -0.660778] [G loss: 0.963450]\n",
            "3400 [D loss: -0.379089] [G loss: 1.063502]\n",
            "3500 [D loss: -0.223385] [G loss: 1.591707]\n",
            "3600 [D loss: -0.653369] [G loss: 1.058983]\n",
            "3700 [D loss: -0.343359] [G loss: 1.253893]\n",
            "3800 [D loss: -0.159072] [G loss: 0.963292]\n",
            "3900 [D loss: -0.578249] [G loss: 1.224161]\n",
            "4000 [D loss: -0.324058] [G loss: 0.800364]\n",
            "4100 [D loss: -0.376373] [G loss: 0.504917]\n",
            "4200 [D loss: -1.258422] [G loss: 1.207338]\n",
            "4300 [D loss: -0.599444] [G loss: 1.323994]\n",
            "4400 [D loss: -0.299004] [G loss: 1.213108]\n",
            "4500 [D loss: 0.187005] [G loss: 1.528965]\n",
            "4600 [D loss: -1.194592] [G loss: 1.055476]\n",
            "4700 [D loss: -1.052228] [G loss: 0.999574]\n",
            "4800 [D loss: -0.982160] [G loss: 0.492001]\n",
            "4900 [D loss: -0.238746] [G loss: 1.644395]\n",
            "5000 [D loss: 0.051480] [G loss: 1.304756]\n",
            "5100 [D loss: -0.199914] [G loss: 1.196710]\n",
            "5200 [D loss: -0.244525] [G loss: 2.065679]\n",
            "5300 [D loss: -1.152162] [G loss: 2.098494]\n",
            "5400 [D loss: -0.792955] [G loss: 1.054647]\n",
            "5500 [D loss: -0.548624] [G loss: 2.257613]\n",
            "5600 [D loss: -0.351330] [G loss: 2.266386]\n",
            "5700 [D loss: -0.530290] [G loss: 1.363737]\n",
            "5800 [D loss: -0.649932] [G loss: 1.933418]\n",
            "5900 [D loss: -0.444651] [G loss: 1.656182]\n",
            "6000 [D loss: 0.304458] [G loss: 2.269739]\n",
            "6100 [D loss: -0.136014] [G loss: 1.853848]\n",
            "6200 [D loss: -0.308312] [G loss: 1.913985]\n",
            "6300 [D loss: 0.579860] [G loss: 1.693026]\n",
            "6400 [D loss: -0.375385] [G loss: 1.315410]\n",
            "6500 [D loss: 0.149312] [G loss: 1.606380]\n",
            "6600 [D loss: -0.545194] [G loss: 2.359549]\n",
            "6700 [D loss: -0.073711] [G loss: 1.424522]\n",
            "6800 [D loss: -0.349062] [G loss: 1.834736]\n",
            "6900 [D loss: 0.044417] [G loss: 1.442543]\n",
            "7000 [D loss: -1.078970] [G loss: 1.667354]\n",
            "7100 [D loss: -1.080191] [G loss: 1.854928]\n",
            "7200 [D loss: -0.358213] [G loss: 2.513768]\n",
            "7300 [D loss: -0.320872] [G loss: 1.880985]\n",
            "7400 [D loss: -0.842776] [G loss: 1.592735]\n",
            "7500 [D loss: -0.984833] [G loss: 1.336008]\n",
            "7600 [D loss: -0.004869] [G loss: 1.711198]\n",
            "7700 [D loss: -1.154046] [G loss: 1.772215]\n",
            "7800 [D loss: 0.113604] [G loss: 0.646232]\n",
            "7900 [D loss: -0.835896] [G loss: 0.762216]\n",
            "8000 [D loss: -0.611290] [G loss: 0.919229]\n",
            "8100 [D loss: 0.033389] [G loss: 1.379592]\n",
            "8200 [D loss: -0.813217] [G loss: 1.713360]\n",
            "8300 [D loss: -0.621035] [G loss: 1.643228]\n",
            "8400 [D loss: -1.249848] [G loss: 1.276887]\n",
            "8500 [D loss: -0.484243] [G loss: 1.342250]\n",
            "8600 [D loss: -0.103272] [G loss: 1.468507]\n",
            "8700 [D loss: 0.475672] [G loss: 1.455391]\n",
            "8800 [D loss: -0.284831] [G loss: 1.661581]\n",
            "8900 [D loss: -1.183251] [G loss: 0.958528]\n",
            "9000 [D loss: -0.352278] [G loss: 1.106824]\n",
            "9100 [D loss: 0.471216] [G loss: 1.140902]\n",
            "9200 [D loss: -0.476642] [G loss: 1.096497]\n",
            "9300 [D loss: -0.537881] [G loss: 0.510272]\n",
            "9400 [D loss: -1.183400] [G loss: 1.224850]\n",
            "9500 [D loss: -0.272913] [G loss: 1.385528]\n",
            "9600 [D loss: 0.054680] [G loss: 0.124425]\n",
            "9700 [D loss: -0.508035] [G loss: 1.054107]\n",
            "9800 [D loss: -0.226219] [G loss: 0.951049]\n",
            "9900 [D loss: -0.717839] [G loss: 0.218693]\n",
            "10000 [D loss: 0.258002] [G loss: 1.141480]\n",
            "10100 [D loss: -0.265701] [G loss: 0.304534]\n",
            "10200 [D loss: 0.240599] [G loss: 0.688675]\n",
            "10300 [D loss: -0.115877] [G loss: 0.503324]\n",
            "10400 [D loss: -0.239535] [G loss: 1.195979]\n",
            "10500 [D loss: -0.305881] [G loss: 0.361957]\n",
            "10600 [D loss: 0.200738] [G loss: 0.784746]\n",
            "10700 [D loss: -1.116903] [G loss: 0.977348]\n",
            "10800 [D loss: -0.097819] [G loss: 1.438441]\n",
            "10900 [D loss: -0.448307] [G loss: 1.173648]\n",
            "11000 [D loss: -0.242805] [G loss: 1.679853]\n",
            "11100 [D loss: -0.906690] [G loss: 1.549233]\n",
            "11200 [D loss: 0.324257] [G loss: 1.906279]\n",
            "11300 [D loss: -1.343878] [G loss: 1.281128]\n",
            "11400 [D loss: -0.379858] [G loss: 1.441046]\n",
            "11500 [D loss: -0.621587] [G loss: 2.105711]\n",
            "11600 [D loss: -0.480761] [G loss: 1.167263]\n",
            "11700 [D loss: -0.523352] [G loss: 1.205844]\n",
            "11800 [D loss: -1.150329] [G loss: 1.240003]\n",
            "11900 [D loss: -0.199469] [G loss: 1.301889]\n",
            "12000 [D loss: -0.976124] [G loss: 0.868372]\n",
            "12100 [D loss: -0.586950] [G loss: 0.970563]\n",
            "12200 [D loss: -0.825857] [G loss: 1.792720]\n",
            "12300 [D loss: -0.335451] [G loss: 0.820911]\n",
            "12400 [D loss: -0.749721] [G loss: 1.444737]\n",
            "12500 [D loss: -0.507750] [G loss: 1.379694]\n",
            "12600 [D loss: 1.161972] [G loss: 1.466600]\n",
            "12700 [D loss: -0.666817] [G loss: 1.254083]\n",
            "12800 [D loss: 0.085953] [G loss: 1.250853]\n",
            "12900 [D loss: 0.089852] [G loss: 1.184278]\n",
            "13000 [D loss: -0.435317] [G loss: 0.711825]\n",
            "13100 [D loss: 0.038458] [G loss: 0.637767]\n",
            "13200 [D loss: -0.840672] [G loss: 0.715659]\n",
            "13300 [D loss: 0.195909] [G loss: 0.971586]\n",
            "13400 [D loss: -1.045380] [G loss: 0.543093]\n",
            "13500 [D loss: 0.015261] [G loss: 1.396179]\n",
            "13600 [D loss: -1.183925] [G loss: 0.676918]\n",
            "13700 [D loss: -0.471552] [G loss: 0.871401]\n",
            "13800 [D loss: -0.401281] [G loss: 0.382540]\n",
            "13900 [D loss: 0.647049] [G loss: 1.029294]\n",
            "14000 [D loss: -0.016588] [G loss: 0.539249]\n",
            "14100 [D loss: -0.855128] [G loss: -0.049994]\n",
            "14200 [D loss: 0.106858] [G loss: 0.617390]\n",
            "14300 [D loss: 0.261547] [G loss: 0.031761]\n",
            "14400 [D loss: 0.062416] [G loss: -0.101375]\n",
            "14500 [D loss: 0.381661] [G loss: 0.102543]\n",
            "14600 [D loss: -0.745776] [G loss: -0.043927]\n",
            "14700 [D loss: -1.144608] [G loss: 0.398186]\n",
            "14800 [D loss: 0.152749] [G loss: 0.061626]\n",
            "14900 [D loss: -0.167452] [G loss: -0.587629]\n",
            "15000 [D loss: -0.198741] [G loss: 0.269666]\n",
            "15100 [D loss: -0.273009] [G loss: -0.326367]\n",
            "15200 [D loss: -0.739016] [G loss: -0.240309]\n",
            "15300 [D loss: -0.207882] [G loss: 0.267357]\n",
            "15400 [D loss: -1.330909] [G loss: -0.057602]\n",
            "15500 [D loss: -0.927979] [G loss: 0.975711]\n",
            "15600 [D loss: -0.499602] [G loss: 0.543131]\n",
            "15700 [D loss: 0.054034] [G loss: 0.168049]\n",
            "15800 [D loss: -0.234832] [G loss: 0.044988]\n",
            "15900 [D loss: -0.630461] [G loss: -0.194432]\n",
            "16000 [D loss: -0.209826] [G loss: -0.296919]\n",
            "16100 [D loss: -0.492458] [G loss: 1.190785]\n",
            "16200 [D loss: -0.940863] [G loss: 0.265319]\n",
            "16300 [D loss: -0.651073] [G loss: 0.153376]\n",
            "16400 [D loss: -0.297930] [G loss: -0.971370]\n",
            "16500 [D loss: -0.726806] [G loss: -0.201652]\n",
            "16600 [D loss: -0.613378] [G loss: 0.209827]\n",
            "16700 [D loss: -0.528405] [G loss: -0.293090]\n",
            "16800 [D loss: 0.336691] [G loss: 0.293227]\n",
            "16900 [D loss: -0.406136] [G loss: 0.255930]\n",
            "17000 [D loss: -0.679959] [G loss: 0.855326]\n",
            "17100 [D loss: 0.112001] [G loss: 0.195733]\n",
            "17200 [D loss: 0.168014] [G loss: -0.517283]\n",
            "17300 [D loss: -0.827313] [G loss: 0.764162]\n",
            "17400 [D loss: -0.274512] [G loss: -0.157662]\n",
            "17500 [D loss: 0.219613] [G loss: 0.024572]\n",
            "17600 [D loss: 0.208640] [G loss: 0.122792]\n",
            "17700 [D loss: 0.839799] [G loss: 0.137490]\n",
            "17800 [D loss: -0.599838] [G loss: -0.133734]\n",
            "17900 [D loss: -0.834426] [G loss: 0.378994]\n",
            "18000 [D loss: -1.077427] [G loss: 0.675905]\n",
            "18100 [D loss: -0.808770] [G loss: 0.103103]\n",
            "18200 [D loss: -0.104492] [G loss: 0.229454]\n",
            "18300 [D loss: -0.782264] [G loss: -0.211252]\n",
            "18400 [D loss: 0.585250] [G loss: -0.523741]\n",
            "18500 [D loss: -0.665078] [G loss: -0.410023]\n",
            "18600 [D loss: -0.319673] [G loss: -0.367107]\n",
            "18700 [D loss: 0.256197] [G loss: -0.589779]\n",
            "18800 [D loss: -0.605665] [G loss: -1.015545]\n",
            "18900 [D loss: -0.808770] [G loss: -1.626248]\n",
            "19000 [D loss: -0.458335] [G loss: -1.147918]\n",
            "19100 [D loss: -0.414753] [G loss: -0.138425]\n",
            "19200 [D loss: 0.478005] [G loss: -0.487288]\n",
            "19300 [D loss: -0.806787] [G loss: -0.429609]\n",
            "19400 [D loss: -0.586338] [G loss: -0.749286]\n",
            "19500 [D loss: -0.384635] [G loss: 0.211200]\n",
            "19600 [D loss: 0.151314] [G loss: -0.561111]\n",
            "19700 [D loss: -0.299364] [G loss: -0.156088]\n",
            "19800 [D loss: -0.178936] [G loss: -0.203024]\n",
            "19900 [D loss: -0.912475] [G loss: -0.014682]\n",
            "20000 [D loss: -0.250933] [G loss: 0.189637]\n",
            "20100 [D loss: -0.541041] [G loss: 0.517518]\n",
            "20200 [D loss: -0.310679] [G loss: -0.725128]\n",
            "20300 [D loss: 0.253454] [G loss: -0.822798]\n",
            "20400 [D loss: 0.050639] [G loss: -1.015413]\n",
            "20500 [D loss: -0.574326] [G loss: -0.722820]\n",
            "20600 [D loss: -0.697345] [G loss: -0.479945]\n",
            "20700 [D loss: -0.190923] [G loss: -0.662294]\n",
            "20800 [D loss: -0.106055] [G loss: -0.449736]\n",
            "20900 [D loss: 0.172258] [G loss: -0.792007]\n",
            "21000 [D loss: -0.422053] [G loss: -0.324482]\n",
            "21100 [D loss: 0.697567] [G loss: -0.214916]\n",
            "21200 [D loss: -0.647483] [G loss: -0.800580]\n",
            "21300 [D loss: -0.078967] [G loss: -0.029656]\n",
            "21400 [D loss: 0.024442] [G loss: 0.744766]\n",
            "21500 [D loss: 0.072673] [G loss: -0.153444]\n",
            "21600 [D loss: 0.217026] [G loss: 0.048628]\n",
            "21700 [D loss: -1.328829] [G loss: 0.157234]\n",
            "21800 [D loss: -0.029310] [G loss: -0.367110]\n",
            "21900 [D loss: -0.138606] [G loss: -0.944713]\n",
            "22000 [D loss: -0.860083] [G loss: -1.125244]\n",
            "22100 [D loss: -0.375682] [G loss: -0.275367]\n",
            "22200 [D loss: -0.064376] [G loss: -1.123741]\n",
            "22300 [D loss: -0.506899] [G loss: -0.483911]\n",
            "22400 [D loss: -0.367372] [G loss: -0.554603]\n",
            "22500 [D loss: -0.428668] [G loss: -0.232749]\n",
            "22600 [D loss: -0.535726] [G loss: 0.144316]\n",
            "22700 [D loss: 0.382021] [G loss: -0.194176]\n",
            "22800 [D loss: -0.127985] [G loss: -0.874470]\n",
            "22900 [D loss: 0.449594] [G loss: -0.659177]\n",
            "23000 [D loss: -0.040338] [G loss: -1.277340]\n",
            "23100 [D loss: -0.661068] [G loss: -0.723001]\n",
            "23200 [D loss: 0.364695] [G loss: 0.148284]\n",
            "23300 [D loss: -0.400603] [G loss: -0.590162]\n",
            "23400 [D loss: 0.519422] [G loss: -0.505022]\n",
            "23500 [D loss: -0.384383] [G loss: -0.224249]\n",
            "23600 [D loss: -0.025121] [G loss: -0.733941]\n",
            "23700 [D loss: -0.385256] [G loss: -0.802365]\n",
            "23800 [D loss: 0.313154] [G loss: -0.597212]\n",
            "23900 [D loss: 0.281621] [G loss: -0.389165]\n",
            "24000 [D loss: -0.332640] [G loss: -0.685553]\n",
            "24100 [D loss: -0.390701] [G loss: -0.183907]\n",
            "24200 [D loss: -1.398553] [G loss: -0.656649]\n",
            "24300 [D loss: -0.517446] [G loss: -0.381111]\n",
            "24400 [D loss: 0.688859] [G loss: -1.147528]\n",
            "24500 [D loss: -0.741066] [G loss: -0.309961]\n",
            "24600 [D loss: -0.066159] [G loss: -0.494224]\n",
            "24700 [D loss: 0.230935] [G loss: -1.445312]\n",
            "24800 [D loss: 0.105427] [G loss: -1.121105]\n",
            "24900 [D loss: -0.227058] [G loss: -1.627559]\n",
            "25000 [D loss: -0.518866] [G loss: -1.092169]\n",
            "25100 [D loss: 0.304055] [G loss: -0.997810]\n",
            "25200 [D loss: -0.462959] [G loss: -1.010082]\n",
            "25300 [D loss: 0.268432] [G loss: -0.589917]\n",
            "25400 [D loss: 0.186783] [G loss: -0.746107]\n",
            "25500 [D loss: -0.101530] [G loss: -0.640815]\n",
            "25600 [D loss: -0.293665] [G loss: -0.554451]\n",
            "25700 [D loss: 0.000527] [G loss: -0.824867]\n",
            "25800 [D loss: 0.700185] [G loss: -0.555515]\n",
            "25900 [D loss: 0.025216] [G loss: -0.399509]\n",
            "26000 [D loss: -0.404917] [G loss: -0.327055]\n",
            "26100 [D loss: -0.686339] [G loss: -0.655552]\n",
            "26200 [D loss: -0.171123] [G loss: -0.615100]\n",
            "26300 [D loss: 0.514629] [G loss: -1.007785]\n",
            "26400 [D loss: -0.125044] [G loss: -0.534256]\n",
            "26500 [D loss: -0.444757] [G loss: -0.378388]\n",
            "26600 [D loss: 0.130230] [G loss: -1.358858]\n",
            "26700 [D loss: 0.070927] [G loss: -1.106929]\n",
            "26800 [D loss: -0.535552] [G loss: -0.251204]\n",
            "26900 [D loss: 0.024987] [G loss: -0.155355]\n",
            "27000 [D loss: -0.588906] [G loss: -1.016867]\n",
            "27100 [D loss: 0.108936] [G loss: -0.089156]\n",
            "27200 [D loss: -0.629579] [G loss: -0.253280]\n",
            "27300 [D loss: -0.252470] [G loss: -0.563299]\n",
            "27400 [D loss: -0.647204] [G loss: -0.495753]\n",
            "27500 [D loss: 0.196618] [G loss: -0.660112]\n",
            "27600 [D loss: -0.453445] [G loss: -0.252391]\n",
            "27700 [D loss: -0.089706] [G loss: -0.700587]\n",
            "27800 [D loss: 0.616280] [G loss: -1.110247]\n",
            "27900 [D loss: 0.155707] [G loss: -0.941850]\n",
            "28000 [D loss: -0.420409] [G loss: -1.360717]\n",
            "28100 [D loss: -0.603215] [G loss: -0.781977]\n",
            "28200 [D loss: 0.021320] [G loss: -0.778944]\n",
            "28300 [D loss: -0.813193] [G loss: -1.348415]\n",
            "28400 [D loss: -0.122282] [G loss: -0.561096]\n",
            "28500 [D loss: -0.248482] [G loss: -1.683516]\n",
            "28600 [D loss: 0.831993] [G loss: -0.437692]\n",
            "28700 [D loss: -0.384281] [G loss: -0.894331]\n",
            "28800 [D loss: -0.306731] [G loss: -0.301143]\n",
            "28900 [D loss: -0.086867] [G loss: -0.871911]\n",
            "29000 [D loss: -0.565286] [G loss: -0.631093]\n",
            "29100 [D loss: -1.531321] [G loss: -0.841422]\n",
            "29200 [D loss: -0.119397] [G loss: -1.062978]\n",
            "29300 [D loss: -0.528135] [G loss: -0.950421]\n",
            "29400 [D loss: -0.609442] [G loss: -1.369125]\n",
            "29500 [D loss: -0.441490] [G loss: -1.672713]\n",
            "29600 [D loss: -0.511101] [G loss: -1.808631]\n",
            "29700 [D loss: -0.039543] [G loss: -1.275046]\n",
            "29800 [D loss: -0.218338] [G loss: -0.122815]\n",
            "29900 [D loss: -0.087746] [G loss: -0.959904]\n"
          ],
          "name": "stdout"
        }
      ]
    },
    {
      "cell_type": "code",
      "metadata": {
        "id": "giOzyX2lW4kK",
        "colab_type": "code",
        "colab": {}
      },
      "source": [
        "### generate images\n",
        "def generate(BATCH_SIZE): \n",
        "    noise = np.random.normal(0, 1, (BATCH_SIZE, latent_dim))\n",
        "    generated_images =generator.predict(noise)\n",
        "    return generated_images\n",
        "\n",
        "### anomaly loss function \n",
        "def sum_of_residual(y_true, y_pred):\n",
        "    return K.sum(K.abs(y_true - y_pred))\n",
        "\n",
        "### discriminator intermediate layer feautre extraction\n",
        "def feature_extractor(d=None):\n",
        "    \n",
        "    intermidiate_model = Model(inputs=critic.layers[0].input, outputs=critic.layers[2].output)\n",
        "    intermidiate_model.compile(loss='binary_crossentropy', optimizer='rmsprop')\n",
        "    return intermidiate_model\n",
        "\n",
        "### anomaly detection model define\n",
        "def anomaly_detector(g=None, d=None):\n",
        "    \n",
        "    intermidiate_model = feature_extractor()\n",
        "    intermidiate_model.trainable = False\n",
        "    g = Model(inputs=generator.layers[1].input, outputs=generator.layers[-1].output)\n",
        "    g.trainable = False\n",
        "    # Input layer cann't be trained. Add new layer as same size & same distribution\n",
        "    aInput = Input(shape=(100,))\n",
        "    gInput = Dense((100), trainable=True)(aInput)\n",
        "    gInput = Activation('sigmoid')(gInput)\n",
        "    \n",
        "    # G & D feature\n",
        "    G_out = g(gInput)\n",
        "    D_out= intermidiate_model(G_out)    \n",
        "    model = Model(inputs=aInput, outputs=[G_out, D_out])\n",
        "    model.compile(loss=sum_of_residual, loss_weights= [0.90, 0.10], optimizer='rmsprop')\n",
        "    \n",
        "    # batchnorm learning phase fixed (test) : make non trainable\n",
        "    K.set_learning_phase(0)\n",
        "    \n",
        "    return model\n",
        "\n",
        "### anomaly detection\n",
        "def compute_anomaly_score(model, x, iterations=500, d=None):\n",
        "    z = np.random.normal(0, 1, size=(1, 100))\n",
        "    \n",
        "    intermidiate_model = feature_extractor(d)\n",
        "    d_x = intermidiate_model.predict(x)\n",
        "\n",
        "    # learning for changing latent\n",
        "    loss = model.fit(z, [x, d_x], batch_size=1, epochs=iterations, verbose=0)\n",
        "    similar_data, _ = model.predict(z)\n",
        "    \n",
        "    loss = loss.history['loss'][-1]\n",
        "    \n",
        "    return loss, similar_data\n",
        "\n",
        "## combine images for visualization\n",
        "def combine_images(generated_images):\n",
        "    num = generated_images.shape[0]\n",
        "    width = int(math.sqrt(num))\n",
        "    height = int(math.ceil(float(num)/width))\n",
        "    shape = generated_images.shape[1:4]\n",
        "    image = np.zeros((height*shape[0], width*shape[1], shape[2]),\n",
        "                     dtype=generated_images.dtype)\n",
        "    for index, img in enumerate(generated_images):\n",
        "        i = int(index/width)\n",
        "        j = index % width\n",
        "        image[i*shape[0]:(i+1)*shape[0], j*shape[1]:(j+1)*shape[1],:] = img[:, :, :]\n",
        "    return image"
      ],
      "execution_count": 0,
      "outputs": []
    },
    {
      "cell_type": "code",
      "metadata": {
        "id": "cgd7sRfFd_xm",
        "colab_type": "code",
        "outputId": "6b3ae012-3da9-4d5e-e251-f9194570d00b",
        "colab": {
          "base_uri": "https://localhost:8080/",
          "height": 281
        }
      },
      "source": [
        "import math\n",
        "import cv2\n",
        "generated_img = generate(25)\n",
        "img = combine_images(generated_img)\n",
        "img = (img*127.5)+127.5\n",
        "img = img.astype(np.uint8)\n",
        "img = cv2.resize(img, None, fx=4, fy=4, interpolation=cv2.INTER_NEAREST)\n",
        "\n",
        "\n",
        "\n",
        "plt.figure(num=0, figsize=(4, 4))\n",
        "plt.title('trained generator')\n",
        "plt.imshow(img, cmap=plt.cm.gray)\n",
        "plt.show()\n",
        "\n"
      ],
      "execution_count": 0,
      "outputs": [
        {
          "output_type": "display_data",
          "data": {
            "image/png": "[encoded data removed]",
            "text/plain": [
              "<Figure size 288x288 with 1 Axes>"
            ]
          },
          "metadata": {
            "tags": []
          }
        }
      ]
    },
    {
      "cell_type": "code",
      "metadata": {
        "id": "0-boQczld9fo",
        "colab_type": "code",
        "colab": {}
      },
      "source": [
        "def anomaly_detection(test_img, g=None, d=None):\n",
        "    model = anomaly_detector(g=g, d=d)\n",
        "    ano_score, similar_img =compute_anomaly_score(model, test_img.reshape(1, 28, 28, 1), iterations=500, d=d)\n",
        "\n",
        "    # anomaly area, 255 normalization\n",
        "    np_residual = test_img.reshape(28,28,1) - similar_img.reshape(28,28,1)\n",
        "    np_residual = (np_residual + 2)/4\n",
        "\n",
        "    np_residual = (255*np_residual).astype(np.uint8)\n",
        "    original_x = (test_img.reshape(28,28,1)*127.5+127.5).astype(np.uint8)\n",
        "    similar_x = (similar_img.reshape(28,28,1)*127.5+127.5).astype(np.uint8)\n",
        "\n",
        "    original_x_color = cv2.cvtColor(original_x, cv2.COLOR_GRAY2BGR)\n",
        "    residual_color = cv2.applyColorMap(np_residual, cv2.COLORMAP_JET)\n",
        "    show = cv2.addWeighted(original_x_color, 0.3, residual_color, 0.7, 0.)\n",
        "\n",
        "    return ano_score, original_x, similar_x, show"
      ],
      "execution_count": 0,
      "outputs": []
    },
    {
      "cell_type": "code",
      "metadata": {
        "id": "iY4r7WTMepSF",
        "colab_type": "code",
        "colab": {}
      },
      "source": [
        "(X_train, y_train), (X_test, y_test) = mnist.load_data()\n",
        "X_train = (X_train.astype(np.float32) - 127.5) / 127.5\n",
        "X_test = (X_test.astype(np.float32) - 127.5) / 127.5\n",
        "\n",
        "X_train = X_train[:,:,:,None]\n",
        "X_test = X_test[:,:,:,None]\n",
        "\n",
        "X_test_original = X_test.copy()\n",
        "\n",
        "X_train = X_train[y_train==1]\n",
        "X_test = X_test[y_test==1]"
      ],
      "execution_count": 0,
      "outputs": []
    },
    {
      "cell_type": "code",
      "metadata": {
        "id": "fb1eMVU7-DIm",
        "colab_type": "code",
        "colab": {}
      },
      "source": [
        ""
      ],
      "execution_count": 0,
      "outputs": []
    },
    {
      "cell_type": "code",
      "metadata": {
        "id": "paFDRR0UeefF",
        "colab_type": "code",
        "outputId": "e6101bd1-dcde-4175-f333-6540eda4a7b7",
        "colab": {
          "base_uri": "https://localhost:8080/",
          "height": 683
        }
      },
      "source": [
        "img_idx = 16\n",
        "label_idx = 9\n",
        "test_img = X_test_original[y_test==label_idx][img_idx]\n",
        "\n",
        "start = cv2.getTickCount()\n",
        "score, qurey, pred, diff = anomaly_detection(test_img)\n",
        "time = (cv2.getTickCount() - start) / cv2.getTickFrequency() * 1000\n",
        "print ('%d label, %d : done'%(label_idx, img_idx), '%.2f'%score, '%.2fms'%time)\n",
        "\n",
        "plt.figure(1, figsize=(3, 3))\n",
        "plt.title('query image')\n",
        "plt.imshow(qurey.reshape(28,28), cmap=plt.cm.gray)\n",
        "\n",
        "print(\"anomaly score : \", score)\n",
        "plt.figure(2, figsize=(3, 3))\n",
        "plt.title('generated similar image')\n",
        "plt.imshow(pred.reshape(28,28), cmap=plt.cm.gray)\n",
        "\n",
        "plt.figure(3, figsize=(3, 3))\n",
        "plt.title('anomaly detection')\n",
        "plt.imshow(cv2.cvtColor(diff,cv2.COLOR_BGR2RGB))\n",
        "plt.show()"
      ],
      "execution_count": 0,
      "outputs": [
        {
          "output_type": "stream",
          "text": [
            "9 label, 16 : done 25.76 2785.26ms\n",
            "anomaly score :  25.76205825805664\n"
          ],
          "name": "stdout"
        },
        {
          "output_type": "display_data",
          "data": {
            "image/png": "[encoded data removed]",
            "text/plain": [
              "<Figure size 216x216 with 1 Axes>"
            ]
          },
          "metadata": {
            "tags": []
          }
        },
        {
          "output_type": "display_data",
          "data": {
            "image/png": "[encoded data removed]",
            "text/plain": [
              "<Figure size 216x216 with 1 Axes>"
            ]
          },
          "metadata": {
            "tags": []
          }
        },
        {
          "output_type": "display_data",
          "data": {
            "image/png": "[encoded data removed]",
            "text/plain": [
              "<Figure size 216x216 with 1 Axes>"
            ]
          },
          "metadata": {
            "tags": []
          }
        }
      ]
    },
    {
      "cell_type": "code",
      "metadata": {
        "id": "JHXZjGY-6SkM",
        "colab_type": "code",
        "outputId": "0ab0c592-f3d6-4c54-f68d-2627855d15b8",
        "colab": {
          "base_uri": "https://localhost:8080/",
          "height": 35
        }
      },
      "source": [
        "from sklearn.manifold import TSNE\n",
        "import random\n",
        "model = feature_extractor()\n",
        "idx=np.arange(len(X_test_original))\n",
        "random.shuffle(idx)\n",
        "\n",
        "feature_map_of_minist = model.predict(X_test_original[idx[0:2000]], verbose=1)\n",
        "output = feature_map_of_minist.reshape(feature_map_of_minist.shape[0], -1)\n",
        "\n"
      ],
      "execution_count": 0,
      "outputs": [
        {
          "output_type": "stream",
          "text": [
            "2000/2000 [==============================] - 0s 165us/step\n"
          ],
          "name": "stdout"
        }
      ]
    },
    {
      "cell_type": "code",
      "metadata": {
        "id": "fJeOaVmG9OWQ",
        "colab_type": "code",
        "colab": {}
      },
      "source": [
        "X_embedded = TSNE(n_components=2).fit_transform(output)"
      ],
      "execution_count": 0,
      "outputs": []
    },
    {
      "cell_type": "code",
      "metadata": {
        "id": "NxksREDf-VdC",
        "colab_type": "code",
        "outputId": "ed467748-5dfa-463f-e403-19669a7387b6",
        "colab": {
          "base_uri": "https://localhost:8080/",
          "height": 35
        }
      },
      "source": [
        "labels.shape"
      ],
      "execution_count": 0,
      "outputs": [
        {
          "output_type": "execute_result",
          "data": {
            "text/plain": [
              "(10000,)"
            ]
          },
          "metadata": {
            "tags": []
          },
          "execution_count": 22
        }
      ]
    },
    {
      "cell_type": "code",
      "metadata": {
        "id": "igHcCopx7Plh",
        "colab_type": "code",
        "outputId": "3cbfab3e-7919-4cfa-f536-43a6a37d7f8b",
        "colab": {
          "base_uri": "https://localhost:8080/",
          "height": 602
        }
      },
      "source": [
        "embeddings_test_2d = X_embedded\n",
        "\n",
        "labels=y_test[idx[0:2000]]\n",
        "import matplotlib.pyplot as plt\n",
        "unique_labels = np.unique(labels)\n",
        "\n",
        "colors = ['C0', 'C1', 'C2', 'C3', 'C4', 'C5', 'C6','C7','C8','C9']\n",
        "\n",
        "fig, ax = plt.subplots()\n",
        "for i in range(len(unique_labels)):\n",
        "    idxs = [j for j in range(len(labels)) if labels[j]==unique_labels[i]]\n",
        "    ax.scatter(embeddings_test_2d[idxs,0], \n",
        "               embeddings_test_2d[idxs,1], \n",
        "               c=colors[i],\n",
        "               label=i,\n",
        "               alpha=0.7,\n",
        "               s=10)\n",
        "\n",
        "ax.legend(scatterpoints=1)\n",
        "fig.suptitle('T-SNE on the feature representation',fontsize=12)\n",
        "fig.set_size_inches(15,9)\n",
        "plt.show()"
      ],
      "execution_count": 0,
      "outputs": [
        {
          "output_type": "display_data",
          "data": {
            "image/png": "[encoded data removed]",
            "text/plain": [
              "<Figure size 1080x648 with 1 Axes>"
            ]
          },
          "metadata": {
            "tags": []
          }
        }
      ]
    }
  ]
}